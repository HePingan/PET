{
 "cells": [
  {
   "cell_type": "markdown",
   "metadata": {},
   "source": [
    "查询pip下载当前所使用的源"
   ]
  },
  {
   "cell_type": "code",
   "execution_count": 1,
   "metadata": {},
   "outputs": [
    {
     "name": "stdout",
     "output_type": "stream",
     "text": [
      "global.index-url='https://mirror.sjtu.edu.cn/pypi/web/simple/'\n",
      "Note: you may need to restart the kernel to use updated packages.\n"
     ]
    }
   ],
   "source": [
    "pip config list"
   ]
  },
  {
   "cell_type": "markdown",
   "metadata": {},
   "source": [
    "##### 换源"
   ]
  },
  {
   "cell_type": "markdown",
   "metadata": {},
   "source": [
    "常使用的源：<br />\n",
    "清华：https://pypi.tuna.tsinghua.edu.cn/simple/ <br />\n",
    "阿里云：http://mirrors.aliyun.com/pypi/simple/ <br />\n",
    "中国科技大学：https://pypi.mirrors.ustc.edu.cn/simple/ <br />\n",
    "华中科技大学：http://pypi.hustunique.com/simple/ <br />\n",
    "上海交通大学：https://mirror.sjtu.edu.cn/pypi/web/simple/ <br />\n",
    "豆瓣：http://pypi.douban.com/simple/ <br />"
   ]
  },
  {
   "cell_type": "code",
   "execution_count": null,
   "metadata": {},
   "outputs": [],
   "source": [
    "pip config set global.index-url 源地址"
   ]
  },
  {
   "cell_type": "markdown",
   "metadata": {},
   "source": []
  },
  {
   "cell_type": "code",
   "execution_count": null,
   "metadata": {},
   "outputs": [],
   "source": []
  }
 ],
 "metadata": {
  "kernelspec": {
   "display_name": "pytorch2",
   "language": "python",
   "name": "python3"
  },
  "language_info": {
   "codemirror_mode": {
    "name": "ipython",
    "version": 3
   },
   "file_extension": ".py",
   "mimetype": "text/x-python",
   "name": "python",
   "nbconvert_exporter": "python",
   "pygments_lexer": "ipython3",
   "version": "3.7.16"
  },
  "orig_nbformat": 4
 },
 "nbformat": 4,
 "nbformat_minor": 2
}
