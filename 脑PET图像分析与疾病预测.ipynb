{
 "cells": [
  {
   "cell_type": "markdown",
   "metadata": {},
   "source": [
    "查询pip下载当前所使用的源"
   ]
  },
  {
   "cell_type": "code",
   "execution_count": 1,
   "metadata": {},
   "outputs": [
    {
     "name": "stdout",
     "output_type": "stream",
     "text": [
      "global.index-url='https://mirror.sjtu.edu.cn/pypi/web/simple/'\n",
      "Note: you may need to restart the kernel to use updated packages.\n"
     ]
    }
   ],
   "source": [
    "pip config list"
   ]
  },
  {
   "cell_type": "markdown",
   "metadata": {},
   "source": [
    "##### 换源"
   ]
  },
  {
   "cell_type": "markdown",
   "metadata": {},
   "source": [
    "常使用的源：<br />\n",
    "清华：https://pypi.tuna.tsinghua.edu.cn/simple/ <br />\n",
    "阿里云：http://mirrors.aliyun.com/pypi/simple/ <br />\n",
    "中国科技大学：https://pypi.mirrors.ustc.edu.cn/simple/ <br />\n",
    "华中科技大学：http://pypi.hustunique.com/simple/ <br />\n",
    "上海交通大学：https://mirror.sjtu.edu.cn/pypi/web/simple/ <br />\n",
    "豆瓣：http://pypi.douban.com/simple/ <br />"
   ]
  },
  {
   "cell_type": "code",
   "execution_count": null,
   "metadata": {},
   "outputs": [],
   "source": [
    "pip config set global.index-url 源地址"
   ]
  },
  {
   "cell_type": "markdown",
   "metadata": {},
   "source": [
    "##### 查看nii文件"
   ]
  },
  {
   "cell_type": "code",
   "execution_count": null,
   "metadata": {},
   "outputs": [],
   "source": [
    "import nibabel as nib\n",
    "import matplotlib.pyplot as plt\n",
    "\n",
    "# 读取.nii文件\n",
    "nii_path = r'/home/aistudio/─╘PET═╝╧ё╖╓╬Ў║═╝▓▓б╘д▓т╠Ї╒╜╚№╣л┐к╩¤╛▌/Test/1.nii'\n",
    "nii_img = nib.load(nii_path)\n",
    "\n",
    "# 获取图像数据\n",
    "nii_data = nii_img.get_fdata()\n",
    "\n",
    "# 可选：查看图像属性\n",
    "print(\"图像形状:\", nii_data.shape)\n",
    "print(\"像素尺寸:\", nii_img.header.get_zooms())\n",
    "\n",
    "# 可根据需要更改切片索引\n",
    "slice_index = nii_data.shape[2]  // 2\n",
    "plt.subplot(2,2,1)\n",
    "plt.imshow(nii_data[:, :, slice_index, 0], cmap='gray') \n",
    "plt.subplot(2,2,2)\n",
    "plt.imshow(nii_data[:, slice_index,:, 0], cmap='gray') \n",
    "plt.subplot(2,2,3)\n",
    "plt.imshow(nii_data[slice_index ,: , : , 0], cmap='gray') "
   ]
  },
  {
   "cell_type": "markdown",
   "metadata": {},
   "source": []
  },
  {
   "cell_type": "markdown",
   "metadata": {},
   "source": []
  },
  {
   "cell_type": "markdown",
   "metadata": {},
   "source": []
  }
 ],
 "metadata": {
  "kernelspec": {
   "display_name": "pytorch2",
   "language": "python",
   "name": "python3"
  },
  "language_info": {
   "codemirror_mode": {
    "name": "ipython",
    "version": 3
   },
   "file_extension": ".py",
   "mimetype": "text/x-python",
   "name": "python",
   "nbconvert_exporter": "python",
   "pygments_lexer": "ipython3",
   "version": "3.7.16"
  },
  "orig_nbformat": 4
 },
 "nbformat": 4,
 "nbformat_minor": 2
}
